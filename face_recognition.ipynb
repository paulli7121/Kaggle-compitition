{
 "cells": [
  {
   "cell_type": "code",
   "execution_count": 1,
   "metadata": {},
   "outputs": [],
   "source": [
    "import pandas as pd\n",
    "import numpy as np\n",
    "import tensorflow as tf\n",
    "import matplotlib.pyplot as plt\n",
    "import random\n",
    "%matplotlib inline"
   ]
  },
  {
   "cell_type": "code",
   "execution_count": 2,
   "metadata": {},
   "outputs": [],
   "source": [
    "def read_data(test=False):\n",
    "    if test:\n",
    "        input_file = pd.read_csv('./input/face/test.csv')\n",
    "    else:\n",
    "        input_file = pd.read_csv('./input/face/training.csv')\n",
    "    cols = input_file.columns[:-1]\n",
    "    \n",
    "    input_file = input_file.dropna()  \n",
    "    input_file['Image'] = input_file['Image'].apply(lambda img: np.fromstring(img, sep=' ') / 255.0)\n",
    "    X = np.vstack(input_file['Image'])\n",
    "    X = X.reshape((-1,96,96,1))\n",
    "    \n",
    "    if test:\n",
    "        Y = None\n",
    "    else:\n",
    "        Y = input_file[cols].values / 96.0 \n",
    "    return X,Y"
   ]
  },
  {
   "cell_type": "code",
   "execution_count": 3,
   "metadata": {},
   "outputs": [],
   "source": [
    "keypoint_index = {\n",
    "        'left_eye_center_x':0,\n",
    "        'left_eye_center_y':1,\n",
    "        'right_eye_center_x':2,\n",
    "        'right_eye_center_y':3,\n",
    "        'left_eye_inner_corner_x':4,\n",
    "        'left_eye_inner_corner_y':5,\n",
    "        'left_eye_outer_corner_x':6,\n",
    "        'left_eye_outer_corner_y':7,\n",
    "        'right_eye_inner_corner_x':8,\n",
    "        'right_eye_inner_corner_y':9,\n",
    "        'right_eye_outer_corner_x':10,\n",
    "        'right_eye_outer_corner_y':11,\n",
    "        'left_eyebrow_inner_end_x':12,\n",
    "        'left_eyebrow_inner_end_y':13,\n",
    "        'left_eyebrow_outer_end_x':14,\n",
    "        'left_eyebrow_outer_end_y':15,\n",
    "        'right_eyebrow_inner_end_x':16,\n",
    "        'right_eyebrow_inner_end_y':17,\n",
    "        'right_eyebrow_outer_end_x':18,\n",
    "        'right_eyebrow_outer_end_y':19,\n",
    "        'nose_tip_x':20,\n",
    "        'nose_tip_y':21,\n",
    "        'mouth_left_corner_x':22,\n",
    "        'mouth_left_corner_y':23,\n",
    "        'mouth_right_corner_x':24,\n",
    "        'mouth_right_corner_y':25,\n",
    "        'mouth_center_top_lip_x':26,\n",
    "        'mouth_center_top_lip_y':27,\n",
    "        'mouth_center_bottom_lip_x':28,\n",
    "        'mouth_center_bottom_lip_y':29\n",
    "    }"
   ]
  },
  {
   "cell_type": "code",
   "execution_count": 4,
   "metadata": {},
   "outputs": [],
   "source": [
    "def save_model(saver, sess, save_path):\n",
    "    path = saver.save(sess, save_path)\n",
    "    print('model save in :{0}'.format(path))\n",
    "    "
   ]
  },
  {
   "cell_type": "code",
   "execution_count": 5,
   "metadata": {},
   "outputs": [],
   "source": [
    "channel_1 = 16\n",
    "channel_2 = 32\n",
    "channel_3 = 64\n",
    "channel_4 = 128\n",
    "channel_5 = 256\n",
    "x = tf.placeholder(tf.float32, shape = [None,96,96,1])\n",
    "y = tf.placeholder(tf.float32, shape = [None, 30])\n",
    "keep_prob = tf.placeholder(tf.float32)\n",
    "def conv(x,channel_size):\n",
    "    initializer = tf.variance_scaling_initializer(scale=2.0)\n",
    "    return tf.layers.conv2d(x,channel_size,(3,3),(1,1),\"same\",\n",
    "                                      activation=tf.nn.relu,use_bias=True,kernel_initializer=initializer,bias_initializer=tf.zeros_initializer())\n",
    "def max_pooling(x):\n",
    "    return tf.layers.max_pooling2d(inputs=x, pool_size=[2, 2], strides=2)\n",
    "def bn(x,is_training):\n",
    "    return tf.layers.batch_normalization(x,training=is_training)\n",
    "\n",
    "\n",
    "def model(x):\n",
    "    #conv1_w = tf.Variable(tf.truncated_normal([3, 3, 1, 16], stddev=0.1))\n",
    "    #conv1_b = tf.Variable(tf.constant(0.1, shape=[16]))\n",
    "    initializer = tf.variance_scaling_initializer(scale=2.0)\n",
    "    conv1 = conv(x, channel_1)\n",
    "    #bn1 = bn(conv1,True)\n",
    "    \n",
    "    conv2 = conv(conv1, channel_2)\n",
    "    #bn2 = bn(conv2, True)\n",
    "    max_pool1 = max_pooling(conv2)\n",
    "    \n",
    "    conv3 = conv(max_pool1, channel_3)\n",
    "    #bn3 = bn(conv3, True)\n",
    "    \n",
    "    conv4 = conv(conv3, channel_4)\n",
    "    #bn4 = bn(conv4, True)\n",
    "    max_pool2 = max_pooling(conv4)\n",
    "    \n",
    "    conv5 = conv(max_pool2, channel_5)\n",
    "    #bn5 = bn(conv5, True)\n",
    "    \n",
    "    flat = tf.layers.flatten(conv5)\n",
    "    dense1 = tf.layers.dense(flat,500, activation=tf.nn.relu, kernel_initializer=initializer,kernel_regularizer=tf.contrib.layers.l2_regularizer(0.01))\n",
    "    dense2 = tf.layers.dense(dense1,500, activation=tf.nn.relu, kernel_initializer=initializer,kernel_regularizer=tf.contrib.layers.l2_regularizer(0.01))\n",
    "    dense3 = tf.layers.dense(dense2,30, kernel_initializer=initializer,kernel_regularizer=tf.contrib.layers.l2_regularizer(0.01))\n",
    "    return dense3"
   ]
  },
  {
   "cell_type": "code",
   "execution_count": 6,
   "metadata": {},
   "outputs": [],
   "source": [
    "VALIDATION_SIZE = 100    #验证集大小\n",
    "EPOCHS = 20             #迭代次数\n",
    "BATCH_SIZE = 100          #每个batch大小，稍微大一点的batch会更稳定\n",
    "EARLY_STOP_PATIENCE = 10 #控制early stopping的参数\n",
    "device = '/gpu:0'\n",
    "\n",
    "X,Y = read_data()\n",
    "X_valid, Y_valid = X[:VALIDATION_SIZE], Y[:VALIDATION_SIZE]\n",
    "X_train, Y_train = X[VALIDATION_SIZE:], Y[VALIDATION_SIZE:]\n",
    "TRAIN_SIZE = X_train.shape[0]"
   ]
  },
  {
   "cell_type": "code",
   "execution_count": 7,
   "metadata": {},
   "outputs": [
    {
     "name": "stdout",
     "output_type": "stream",
     "text": [
      "epoch 0 start:\n",
      "training loss is 0.105578.\n",
      "epoch 1 start:\n",
      "training loss is 0.058558.\n",
      "epoch 2 start:\n",
      "training loss is 0.038231.\n",
      "epoch 3 start:\n",
      "training loss is 0.035228.\n",
      "epoch 4 start:\n",
      "training loss is 0.032807.\n",
      "epoch 5 start:\n",
      "training loss is 0.028812.\n",
      "epoch 6 start:\n",
      "training loss is 0.028625.\n",
      "epoch 7 start:\n",
      "training loss is 0.033381.\n",
      "epoch 8 start:\n",
      "training loss is 0.022405.\n",
      "epoch 9 start:\n",
      "training loss is 0.025843.\n",
      "epoch 10 start:\n",
      "training loss is 0.025781.\n",
      "epoch 11 start:\n",
      "training loss is 0.028785.\n",
      "epoch 12 start:\n",
      "training loss is 0.019438.\n",
      "epoch 13 start:\n",
      "training loss is 0.031513.\n",
      "epoch 14 start:\n",
      "training loss is 0.016154.\n",
      "epoch 15 start:\n",
      "training loss is 0.019461.\n",
      "epoch 16 start:\n",
      "training loss is 0.026203.\n",
      "epoch 17 start:\n",
      "training loss is 0.036961.\n",
      "epoch 18 start:\n",
      "training loss is 0.037214.\n",
      "epoch 19 start:\n",
      "training loss is 0.023748.\n",
      "epoch 20 start:\n",
      "training loss is 0.017532.\n"
     ]
    }
   ],
   "source": [
    "result_y = model(x)\n",
    "loss = tf.sqrt(tf.reduce_mean(tf.square(y - result_y)))\n",
    "train_step = tf.train.AdamOptimizer(1e-3).minimize(loss)\n",
    "init = tf.global_variables_initializer()\n",
    "\n",
    "sess = tf.Session()\n",
    "sess.run(init)\n",
    "\n",
    "for epoch in range(EPOCHS + 1):\n",
    "    print('epoch %d start:'% epoch)\n",
    "    for i in range(0,TRAIN_SIZE,BATCH_SIZE):\n",
    "        sess.run(train_step, feed_dict={x:X_train[i:i+BATCH_SIZE], y:Y_train[i:i+BATCH_SIZE]})\n",
    "        if i % 100 == 0:\n",
    "            train_loss = sess.run(loss, feed_dict={x:X_train[i:i+BATCH_SIZE], y:Y_train[i:i+BATCH_SIZE]})\n",
    "    print('training loss is %f.' % train_loss)"
   ]
  },
  {
   "cell_type": "code",
   "execution_count": 8,
   "metadata": {},
   "outputs": [
    {
     "name": "stdout",
     "output_type": "stream",
     "text": [
      "Image wrote done\n"
     ]
    }
   ],
   "source": [
    "X,y = read_data(test=True)\n",
    "y_pred = []\n",
    "\n",
    "TEST_SIZE = X.shape[0]\n",
    "for j in range(0,TEST_SIZE,BATCH_SIZE):\n",
    "    y_batch = sess.run(result_y,feed_dict={x:X[j:j+BATCH_SIZE]})\n",
    "    y_pred.extend(y_batch)\n",
    "\n",
    "print('Image wrote done')\n",
    "\n",
    "output_file = open('./input/face/submit.csv','w')\n",
    "output_file.write('RowId,Location\\n')\n",
    "\n",
    "IdLookupTable = open('./input/face/IdLookupTable.csv')\n",
    "IdLookupTable.readline()\n",
    "\n",
    "for line in IdLookupTable:\n",
    "    RowId,ImageId,FeatureName = line.rstrip().split(',')\n",
    "    image_index = int(ImageId) - 1\n",
    "    feature_index = keypoint_index[FeatureName]\n",
    "    feature_location = y_pred[image_index][feature_index] * 96\n",
    "    output_file.write('{0},{1}\\n'.format(RowId,feature_location))\n",
    "\n",
    "output_file.close()\n",
    "IdLookupTable.close()\n"
   ]
  },
  {
   "cell_type": "code",
   "execution_count": 9,
   "metadata": {},
   "outputs": [
    {
     "name": "stdout",
     "output_type": "stream",
     "text": [
      "[0.6707812  0.3804943  0.3412351  0.38671377 0.61412174 0.40837282\n",
      " 0.7254706  0.38295484 0.4172225  0.42951635 0.30035377 0.38250336\n",
      " 0.60010827 0.34857875 0.7708501  0.307548   0.4425795  0.3295885\n",
      " 0.24105605 0.3268652  0.53468347 0.63953733 0.65999305 0.7432138\n",
      " 0.3521084  0.75000143 0.5260215  0.772368   0.5293968  0.75459677]\n"
     ]
    },
    {
     "data": {
      "image/png": "[encoded data removed]",
      "text/plain": [
       "<Figure size 432x288 with 1 Axes>"
      ]
     },
     "metadata": {},
     "output_type": "display_data"
    }
   ],
   "source": [
    "def plot_sample(x, y, truth=None):\n",
    "    img = x.reshape(96, 96)\n",
    "    plt.imshow(img, cmap='gray')\n",
    "    if y is not None:\n",
    "        plt.scatter(y[0::2] * 96, y[1::2] * 96)\n",
    "    if truth is not None:\n",
    "        plt.scatter(truth[0::2] * 96, truth[1::2] * 96, c='r', marker='x')\n",
    "    plt.savefig(\"./input/img.png\")\n",
    "    \n",
    "i = 52\n",
    "img = X_valid[i]\n",
    "test_x = img.reshape(-1,96,96,1)\n",
    "lab_y = Y_valid[i]\n",
    "pred_y = sess.run(result_y,feed_dict={x:test_x}).reshape(-1)\n",
    "print(pred_y)\n",
    "\n",
    "plot_sample(img,pred_y,lab_y)"
   ]
  }
 ],
 "metadata": {
  "kernelspec": {
   "display_name": "Python 3",
   "language": "python",
   "name": "python3"
  },
  "language_info": {
   "codemirror_mode": {
    "name": "ipython",
    "version": 3
   },
   "file_extension": ".py",
   "mimetype": "text/x-python",
   "name": "python",
   "nbconvert_exporter": "python",
   "pygments_lexer": "ipython3",
   "version": "3.6.5"
  }
 },
 "nbformat": 4,
 "nbformat_minor": 2
}
