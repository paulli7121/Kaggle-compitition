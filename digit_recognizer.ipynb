{
 "cells": [
  {
   "cell_type": "code",
   "execution_count": 1,
   "metadata": {},
   "outputs": [],
   "source": [
    "import numpy as np \n",
    "import pandas as pd\n",
    "import tensorflow as tf\n",
    "import math\n",
    "from sklearn.model_selection import train_test_split\n",
    "import matplotlib.pyplot as plt\n",
    "%matplotlib inline"
   ]
  },
  {
   "cell_type": "code",
   "execution_count": 2,
   "metadata": {},
   "outputs": [],
   "source": [
    "input_file = pd.read_csv('./input/train.csv')\n",
    "images = input_file.iloc[:,1:].values\n",
    "labels = input_file.iloc[:,:1].values\n",
    "train_images,test_images,train_labels,test_labels = train_test_split(images,labels,test_size = 0.02)\n"
   ]
  },
  {
   "cell_type": "code",
   "execution_count": 3,
   "metadata": {},
   "outputs": [
    {
     "name": "stdout",
     "output_type": "stream",
     "text": [
      "Begin the set up for training images...\n",
      "Begin the set up for test images...\n",
      "Training_images.shape: (41160, 28, 28, 1)\n",
      "training_labels.shape: (41160,)\n",
      "testing_images.shape: (840, 28, 28, 1)\n",
      "testing_labels.shape: (840,)\n"
     ]
    }
   ],
   "source": [
    "def set_up_images(train_images,test_images,train_labels,test_labels):\n",
    "        print(\"Begin the set up for training images...\")\n",
    "        training_images = train_images\n",
    "        train_len = training_images.shape[0]\n",
    "        training_images = training_images.reshape(train_len,28,28,1)/255\n",
    "        training_labels = train_labels\n",
    "        training_labels = training_labels.reshape(-1)\n",
    "        #training_labels = encode_labels(training_labels,10)\n",
    "        \n",
    "        \n",
    "        print(\"Begin the set up for test images...\")\n",
    "        testing_images = test_images\n",
    "        test_len = testing_images.shape[0]\n",
    "        testing_images = testing_images.reshape(test_len,28,28,1)/255\n",
    "        \n",
    "        testing_labels = test_labels.reshape(-1) \n",
    "        #testing_labels = encode_labels(test_labels,10)\n",
    "        \n",
    "        return training_images,testing_images,training_labels,testing_labels\n",
    "        \n",
    "        \n",
    "training_images,testing_images,training_labels,testing_labels = set_up_images(train_images,test_images,train_labels,test_labels)\n",
    "print(\"Training_images.shape:\",training_images.shape)\n",
    "print(\"training_labels.shape:\",training_labels.shape)\n",
    "print(\"testing_images.shape:\",testing_images.shape)\n",
    "print(\"testing_labels.shape:\",testing_labels.shape)"
   ]
  },
  {
   "cell_type": "code",
   "execution_count": 4,
   "metadata": {},
   "outputs": [
    {
     "name": "stdout",
     "output_type": "stream",
     "text": [
      "Train on 41160 samples, validate on 840 samples\n",
      "Epoch 1/10\n",
      "41160/41160 [==============================] - 29s 697us/step - loss: 0.4168 - acc: 0.9751 - val_loss: 0.4359 - val_acc: 0.9857\n",
      "Epoch 2/10\n",
      "41160/41160 [==============================] - 22s 540us/step - loss: 0.1850 - acc: 0.9906 - val_loss: 0.1257 - val_acc: 0.9881\n",
      "Epoch 3/10\n",
      "41160/41160 [==============================] - 22s 538us/step - loss: 0.1203 - acc: 0.9935 - val_loss: 0.1149 - val_acc: 0.9881\n",
      "Epoch 4/10\n",
      "41160/41160 [==============================] - 22s 538us/step - loss: 0.0895 - acc: 0.9944 - val_loss: 0.0866 - val_acc: 0.9917\n",
      "Epoch 5/10\n",
      "41160/41160 [==============================] - 21s 520us/step - loss: 0.0669 - acc: 0.9961 - val_loss: 0.0733 - val_acc: 0.9905\n",
      "Epoch 6/10\n",
      "41160/41160 [==============================] - 22s 539us/step - loss: 0.0519 - acc: 0.9968 - val_loss: 0.0694 - val_acc: 0.9905\n",
      "Epoch 7/10\n",
      "41160/41160 [==============================] - 22s 535us/step - loss: 0.0430 - acc: 0.9976 - val_loss: 0.0556 - val_acc: 0.9917\n",
      "Epoch 8/10\n",
      "41160/41160 [==============================] - 22s 543us/step - loss: 0.0362 - acc: 0.9980 - val_loss: 0.0531 - val_acc: 0.9929\n",
      "Epoch 9/10\n",
      "41160/41160 [==============================] - 22s 542us/step - loss: 0.0320 - acc: 0.9978 - val_loss: 0.0908 - val_acc: 0.9857\n",
      "Epoch 10/10\n",
      "41160/41160 [==============================] - 22s 537us/step - loss: 0.0285 - acc: 0.9981 - val_loss: 0.0415 - val_acc: 0.9940\n"
     ]
    }
   ],
   "source": [
    "device = '/gpu:0'\n",
    "learning_rate = 5e-3\n",
    "input_shape = (28,28,1)\n",
    "channel_1 = 16\n",
    "channel_2 = 32\n",
    "channel_3 = 64\n",
    "channel_4 = 128\n",
    "channel_5 = 256\n",
    "num_classes = 10\n",
    "\n",
    "tf.reset_default_graph()\n",
    "\n",
    "with tf.device(device):\n",
    "    initializer = tf.variance_scaling_initializer(scale=2.0)\n",
    "    layers = [\n",
    "        tf.keras.layers.Conv2D(channel_1,(3,3),(1,1),\"same\",\n",
    "                                      activation=tf.nn.relu,use_bias=True,kernel_initializer=initializer,bias_initializer=tf.zeros_initializer()),\n",
    "        tf.keras.layers.BatchNormalization(),\n",
    "        \n",
    "        tf.keras.layers.Conv2D(channel_2,(3,3),(1,1),\"same\",\n",
    "                                      activation=tf.nn.relu,use_bias=True,kernel_initializer=initializer,bias_initializer=tf.zeros_initializer()),\n",
    "        tf.keras.layers.BatchNormalization(),\n",
    "        tf.keras.layers.MaxPool2D(strides=2),\n",
    "        \n",
    "        tf.keras.layers.Conv2D(channel_3,(3,3),(1,1),\"same\",\n",
    "                                      activation=tf.nn.relu,use_bias=True,kernel_initializer=initializer,bias_initializer=tf.zeros_initializer()),\n",
    "        tf.keras.layers.BatchNormalization(),\n",
    "        \n",
    "        tf.keras.layers.Conv2D(channel_4,(3,3),(1,1),\"same\",\n",
    "                                      activation=tf.nn.relu,use_bias=True,kernel_initializer=initializer,bias_initializer=tf.zeros_initializer()),\n",
    "        tf.keras.layers.BatchNormalization(),\n",
    "        tf.keras.layers.MaxPool2D(strides=2),\n",
    "        \n",
    "        tf.keras.layers.Conv2D(channel_5,(3,3),(1,1),\"same\",\n",
    "                                      activation=tf.nn.relu,use_bias=True,kernel_initializer=initializer,bias_initializer=tf.zeros_initializer()),\n",
    "        tf.keras.layers.BatchNormalization(),\n",
    "        \n",
    "        tf.keras.layers.Flatten(),\n",
    "        tf.keras.layers.Dense(num_classes, kernel_initializer=initializer,kernel_regularizer=tf.keras.regularizers.l2(0.01)),\n",
    "        \n",
    "        tf.keras.layers.BatchNormalization(),\n",
    "        tf.keras.layers.Activation('softmax'),\n",
    "    ]\n",
    "    model = tf.keras.Sequential(layers)\n",
    "    optimizer = tf.keras.optimizers.Adam(lr=0.001, beta_1=0.9, beta_2=0.999, epsilon=1e-08)\n",
    "    #optimizer = tf.train.MomentumOptimizer(learning_rate, 0.9, use_nesterov=True)\n",
    "    model.compile(optimizer,\"sparse_categorical_crossentropy\", metrics=['accuracy'])\n",
    "    model.fit(training_images, training_labels, batch_size=100, epochs=10, validation_data=(testing_images,testing_labels))\n"
   ]
  },
  {
   "cell_type": "code",
   "execution_count": 5,
   "metadata": {},
   "outputs": [
    {
     "name": "stdout",
     "output_type": "stream",
     "text": [
      "(28000, 28, 28, 1)\n"
     ]
    }
   ],
   "source": [
    "test_file = pd.read_csv('./input/test.csv')\n",
    "pre_images = test_file.iloc[:,:].values\n",
    "pre_len = pre_images.shape[0]\n",
    "pre_images = pre_images.reshape(pre_len,28,28,1)/255\n",
    "print(pre_images.shape)"
   ]
  },
  {
   "cell_type": "code",
   "execution_count": 6,
   "metadata": {},
   "outputs": [],
   "source": [
    "result = model.predict(pre_images, batch_size=100, verbose=0)\n",
    "predict = []\n",
    "for i in range(pre_len):\n",
    "    predict.append(np.argmax(result[i,:]))\n",
    "submission = pd.DataFrame({\"ImageId\":range(1,28001),\"Label\":np.int32(predict)})\n",
    "submission.to_csv(\"submission.csv\",index = False)"
   ]
  }
 ],
 "metadata": {
  "kernelspec": {
   "display_name": "Python 3",
   "language": "python",
   "name": "python3"
  },
  "language_info": {
   "codemirror_mode": {
    "name": "ipython",
    "version": 3
   },
   "file_extension": ".py",
   "mimetype": "text/x-python",
   "name": "python",
   "nbconvert_exporter": "python",
   "pygments_lexer": "ipython3",
   "version": "3.6.5"
  }
 },
 "nbformat": 4,
 "nbformat_minor": 2
}
